{
 "cells": [
  {
   "cell_type": "markdown",
   "metadata": {},
   "source": [
    "# ADP - Approximate Dynamic Programming"
   ]
  },
  {
   "cell_type": "code",
   "execution_count": 1,
   "metadata": {
    "scrolled": true
   },
   "outputs": [],
   "source": [
    "import numpy as np\n",
    "import torch\n",
    "import torch.nn as nn\n",
    "import torch.nn.functional as F\n",
    "from torch.utils.data import Dataset, DataLoader\n",
    "from numpy.random import random_sample\n",
    "from scipy.special import softmax\n",
    "import time\n",
    "import matplotlib.pyplot as plt\n",
    "import sys\n",
    "import pandas as pd\n",
    "from sklearn.model_selection import train_test_split"
   ]
  },
  {
   "cell_type": "code",
   "execution_count": 2,
   "metadata": {},
   "outputs": [
    {
     "data": {
      "text/plain": [
       "device(type='cpu')"
      ]
     },
     "execution_count": 2,
     "metadata": {},
     "output_type": "execute_result"
    }
   ],
   "source": [
    "device = torch.device('cuda:0' if torch.cuda.is_available() else 'cpu')\n",
    "device"
   ]
  },
  {
   "cell_type": "markdown",
   "metadata": {},
   "source": [
    "## Setup"
   ]
  },
  {
   "cell_type": "code",
   "execution_count": 258,
   "metadata": {},
   "outputs": [],
   "source": [
    "array = np.array((0,0,1,0)).reshape((4,1))\n",
    "Xref0 = 0.001518 * array\n",
    "Xref2 = -0.022689 * array\n",
    "Xref4 = -0.023736 * array\n",
    "Xref6 = -0.051836 * array\n",
    "Xref8 = -0.06526 * array\n",
    "Xref10 = -0.075049 * array\n",
    "# Xrefs = [Xref0,Xref2,Xref4,Xref6,Xref8,Xref10]\n",
    "# Xrefs = [Xref0,Xref4,Xref6,Xref10]\n",
    "Xrefs = [Xref0, Xref4, Xref8]"
   ]
  },
  {
   "cell_type": "code",
   "execution_count": 259,
   "metadata": {},
   "outputs": [],
   "source": [
    "# Next State Functions\n",
    "def f(A,B,K,X):\n",
    "    u = K @ X\n",
    "    return A@X - B*u, u"
   ]
  },
  {
   "cell_type": "code",
   "execution_count": 260,
   "metadata": {},
   "outputs": [],
   "source": [
    "ncon = len(Xrefs)\n",
    "nstates = 4\n",
    "seq_len = 300"
   ]
  },
  {
   "cell_type": "markdown",
   "metadata": {},
   "source": [
    "### Experimental Data Points"
   ]
  },
  {
   "cell_type": "code",
   "execution_count": 276,
   "metadata": {},
   "outputs": [],
   "source": [
    "data0 = np.array(np.loadtxt('weight0.txt', delimiter=',')) #+ Xref0.T)\n",
    "data2 = np.array(np.loadtxt('weight2.txt', delimiter=',')) #+ Xref2.T)\n",
    "data4 = np.array(np.loadtxt('weight4.txt', delimiter=',')) #+ Xref4.T)\n",
    "data6 = np.array(np.loadtxt('weight6.txt', delimiter=',')) #+ Xref6.T)\n",
    "data8 = np.array(np.loadtxt('weight8.txt', delimiter=',')) #+ Xref8.T)\n",
    "data10 = np.array(np.loadtxt('weight10.txt',delimiter=',')) #+ Xref10.T)"
   ]
  },
  {
   "cell_type": "code",
   "execution_count": 277,
   "metadata": {
    "scrolled": true
   },
   "outputs": [
    {
     "name": "stdout",
     "output_type": "stream",
     "text": [
      "(9222, 4)\n"
     ]
    }
   ],
   "source": [
    "print(data0.shape)"
   ]
  },
  {
   "cell_type": "code",
   "execution_count": 278,
   "metadata": {},
   "outputs": [],
   "source": [
    "data0_ = np.array(np.loadtxt('weight0_switching_K.txt',delimiter=','))\n",
    "data4_ = np.array(np.loadtxt('weight4_switching_K.txt',delimiter=','))\n",
    "data8_ = np.array(np.loadtxt('weight8_switching_K.txt',delimiter=','))"
   ]
  },
  {
   "cell_type": "code",
   "execution_count": 279,
   "metadata": {},
   "outputs": [
    {
     "name": "stdout",
     "output_type": "stream",
     "text": [
      "(9222, 4)\n"
     ]
    }
   ],
   "source": [
    "print(data0.shape)"
   ]
  },
  {
   "cell_type": "code",
   "execution_count": 280,
   "metadata": {},
   "outputs": [],
   "source": [
    "# data_list = [np.vstack((data0[:400],data0[1400:])),np.vstack((data4[:400],data4[1400:])),np.vstack((data8[:400],data8[1400:]))]\n",
    "# data_list = [np.array(data0), np.array(data2), np.array(data4), np.array(data6), np.array(data8), np.array(data10)]\n",
    "# data_list = [np.vstack((data0[:400],data0[1400:])),np.vstack((data2[:400],data2[1400:])),np.vstack((data4[:400],data4[1400:])),np.vstack((data6[:400],data6[1400:])),np.vstack((data8[:400],data8[1400:])),np.vstack((data10[:400],data10[1400:]))]\n",
    "data_list = [data0, data0_, data4, data4_, data8, data8_]"
   ]
  },
  {
   "cell_type": "code",
   "execution_count": 354,
   "metadata": {},
   "outputs": [],
   "source": [
    "val_list = [data0[400:1400], data4[400:1400], data8[400:1400]]\n",
    "# val_list = [data0[400:1400], data2[400:1400], data4[400:1400], data6[400:1400], data8[400:1400], data10[400:1400]]"
   ]
  },
  {
   "cell_type": "code",
   "execution_count": 355,
   "metadata": {},
   "outputs": [],
   "source": [
    "val_seq_list = []\n",
    "val_labels = []\n",
    "label = 0\n",
    "for v in val_list:\n",
    "    for i in range(v.shape[0]-seq_len):\n",
    "        val_seq_list.append(v[i:i+seq_len].T.reshape((1,nstates,seq_len)))\n",
    "        val_labels.append(label)\n",
    "    label += 1\n",
    "assert(len(val_seq_list) == len(val_labels))\n",
    "val_seq = np.concatenate(val_seq_list, axis=0)"
   ]
  },
  {
   "cell_type": "code",
   "execution_count": 288,
   "metadata": {
    "scrolled": false
   },
   "outputs": [
    {
     "name": "stdout",
     "output_type": "stream",
     "text": [
      "0 (9222, 4)\n",
      "1 (9131, 4)\n",
      "2 (9192, 4)\n",
      "3 (9717, 4)\n",
      "4 (9347, 4)\n",
      "5 (9226, 4)\n"
     ]
    }
   ],
   "source": [
    "for i in range(len(data_list)):\n",
    "    print(i, data_list[i].shape)"
   ]
  },
  {
   "cell_type": "code",
   "execution_count": 281,
   "metadata": {},
   "outputs": [],
   "source": [
    "data_seq_list = []\n",
    "labels = []\n",
    "label = 0\n",
    "idx = 1\n",
    "for d in data_list:\n",
    "    for i in range(d.shape[0]-seq_len):\n",
    "        data_seq_list.append(d[i:i+seq_len].T.reshape((1,nstates,seq_len)))\n",
    "        labels.append(label)\n",
    "    if idx %2 == 0:\n",
    "        label += 1\n",
    "    idx += 1\n",
    "assert(len(data_seq_list) == len(labels))\n",
    "data_seq = np.concatenate(data_seq_list, axis=0)"
   ]
  },
  {
   "cell_type": "code",
   "execution_count": 303,
   "metadata": {},
   "outputs": [],
   "source": [
    "data_train, data_val, labels_train, labels_val = train_test_split(data_seq, labels, test_size=0.3)"
   ]
  },
  {
   "cell_type": "code",
   "execution_count": 304,
   "metadata": {},
   "outputs": [
    {
     "name": "stdout",
     "output_type": "stream",
     "text": [
      "54035\n"
     ]
    }
   ],
   "source": [
    "print(len(labels))"
   ]
  },
  {
   "cell_type": "code",
   "execution_count": 305,
   "metadata": {},
   "outputs": [
    {
     "name": "stdout",
     "output_type": "stream",
     "text": [
      "(54035, 4, 300)\n"
     ]
    }
   ],
   "source": [
    "print(data_seq.shape)"
   ]
  },
  {
   "cell_type": "code",
   "execution_count": 306,
   "metadata": {},
   "outputs": [
    {
     "name": "stdout",
     "output_type": "stream",
     "text": [
      "(37824, 4, 300)\n"
     ]
    }
   ],
   "source": [
    "print(data_train.shape)"
   ]
  },
  {
   "cell_type": "code",
   "execution_count": 307,
   "metadata": {},
   "outputs": [],
   "source": [
    "class StatesDataset(Dataset):\n",
    "    def __init__(self, data, labels):\n",
    "        self.data = torch.from_numpy(data).type('torch.FloatTensor')\n",
    "        self.labels = labels\n",
    "    def __len__(self):\n",
    "        return len(self.data)\n",
    "    def __getitem__(self, index):\n",
    "        return self.data[index], self.labels[index]"
   ]
  },
  {
   "cell_type": "code",
   "execution_count": 308,
   "metadata": {},
   "outputs": [],
   "source": [
    "trainset = StatesDataset(data_train, labels_train)\n",
    "trainloader = DataLoader(trainset, batch_size=128, shuffle=True, num_workers=0, drop_last=False)\n",
    "\n",
    "valset = StatesDataset(data_val, labels_val)\n",
    "valloader = DataLoader(valset, batch_size=128, shuffle=True, num_workers=0, drop_last=False)"
   ]
  },
  {
   "cell_type": "markdown",
   "metadata": {},
   "source": [
    "## The Model - Curve to Fit u*(X(k))"
   ]
  },
  {
   "cell_type": "code",
   "execution_count": 309,
   "metadata": {},
   "outputs": [],
   "source": [
    "class Model(nn.Module):\n",
    "    def __init__(self, nstates, noutputs):\n",
    "        super(Model, self).__init__()\n",
    "        self.fc1 = nn.Linear(nstates, 16, bias=False)\n",
    "        self.conv1 = nn.Conv1d(in_channels=16, out_channels=32, kernel_size=3, stride=1, padding=1, bias=False)\n",
    "        self.bn1 = nn.BatchNorm1d(32)\n",
    "        self.drop1 = nn.Dropout(p=0)\n",
    "        self.conv2 = nn.Conv1d(in_channels=32, out_channels=64, kernel_size=3, stride=1, padding=1)\n",
    "        self.fc2 = nn.Linear(64, noutputs, bias=False)\n",
    "        \n",
    "    def forward(self, x):\n",
    "        out = self.fc1(x)\n",
    "        out = self.conv1(out.unsqueeze(2))\n",
    "        out = self.bn1(out)\n",
    "        out = self.drop1(out)\n",
    "        out = self.conv2(out)\n",
    "        out = self.fc2(out.squeeze(2))\n",
    "        return out"
   ]
  },
  {
   "cell_type": "code",
   "execution_count": 310,
   "metadata": {},
   "outputs": [],
   "source": [
    "class ResBlock2(nn.Module):\n",
    "    def __init__(self, channel_size, stride=1):\n",
    "        super(ResBlock2, self).__init__()\n",
    "        self.conv1 = nn.Conv2d(channel_size, 4*channel_size, kernel_size=(2,5), stride=stride, bias=False)\n",
    "        self.bn1 = nn.BatchNorm2d(4*channel_size)\n",
    "        self.conv2 = nn.Conv2d(4*channel_size, channel_size, kernel_size=1, stride=stride, bias=False)\n",
    "        self.bn2 = nn.BatchNorm2d(channel_size)\n",
    "        self.shortcut = nn.Conv2d(channel_size, channel_size, kernel_size=(2,5), stride=stride, bias=False)\n",
    "        \n",
    "    def forward(self, x):\n",
    "        out = F.relu(self.bn1(self.conv1(x)))\n",
    "        out = self.bn2(self.conv2(out))\n",
    "        out1 = self.shortcut(x)\n",
    "        out = F.relu(out)\n",
    "        return out"
   ]
  },
  {
   "cell_type": "code",
   "execution_count": 311,
   "metadata": {},
   "outputs": [],
   "source": [
    "class ModelCONV2D(nn.Module):\n",
    "    def __init__(self, nstates, noutputs, seq_len):\n",
    "        super(ModelCONV2D, self).__init__()\n",
    "        self.conv1 = nn.Conv2d(in_channels=1, out_channels=8, kernel_size=(2,20), stride=1)\n",
    "        self.bn1 = nn.BatchNorm2d(8, momentum=0.1)\n",
    "        self.relu1 = nn.ReLU(inplace=True)\n",
    "        self.drop1 = nn.Dropout(p=0.3)\n",
    "        \n",
    "        self.conv2 = nn.Conv2d(in_channels=8, out_channels=16, kernel_size=(2,20), stride=1)\n",
    "        self.bn2 = nn.BatchNorm2d(16, momentum=0.1)\n",
    "        self.relu2 = nn.ReLU(inplace=True)\n",
    "        self.drop2 = nn.Dropout(p=0.3)\n",
    "        \n",
    "#         self.conv3 = nn.Conv2d(in_channels=8, out_channels=16, kernel_size=(2,5), stride=1)\n",
    "#         self.bn3 = nn.BatchNorm2d(16, momentum=0.1)\n",
    "#         self.relu3 = nn.ReLU(inplace=True)\n",
    "#         self.drop3 = nn.Dropout(p=0.2)\n",
    "        \n",
    "        self.flat = nn.Flatten()\n",
    "#         self.fc1 = nn.Linear(16*(nstates-2)*(seq_len-8), noutputs*64)\n",
    "        self.fc1 = nn.Linear(16*(nstates-2)*(seq_len-38), noutputs*64)\n",
    "        self.fc2 = nn.Linear(noutputs*64, noutputs)\n",
    "        \n",
    "    def forward(self, x):\n",
    "        x = x.unsqueeze(1)\n",
    "        out = self.conv1(x)\n",
    "        out = self.bn1(out)\n",
    "        out = self.relu1(out)\n",
    "        out = self.drop1(out)\n",
    "        \n",
    "        out = self.conv2(out)\n",
    "        out = self.bn2(out)\n",
    "        out = self.relu2(out)\n",
    "        out = self.drop2(out)\n",
    "        \n",
    "#         out = self.conv3(out)\n",
    "#         out = self.bn3(out)\n",
    "#         out = self.relu3(out)\n",
    "#         out = self.drop3(out)\n",
    "        \n",
    "        out = self.flat(out)\n",
    "        out = self.fc1(out)\n",
    "        out = self.fc2(out)\n",
    "        return out"
   ]
  },
  {
   "cell_type": "code",
   "execution_count": 312,
   "metadata": {},
   "outputs": [],
   "source": [
    "class ModelLSTM(nn.Module):\n",
    "    def __init__(self, nstates, noutputs):\n",
    "        super(ModelLSTM, self).__init__()\n",
    "        self.fc1 = nn.Linear(nstates, 8, bias=False)\n",
    "        self.lstm = nn.LSTM(input_size=8, hidden_size=64, num_layers=2, batch_first=True)\n",
    "        self.fc2 = nn.Linear(64, noutputs, bias=False)\n",
    "        \n",
    "    def forward(self, x):\n",
    "        x = x.permute(0,2,1) # (nsamples, nseq, 4)\n",
    "        out = self.fc1(x) # (nsamples, nseq, 8)\n",
    "        out = self.lstm(out)[0] # (nsamples, nseq, 64)\n",
    "        out = self.fc2(out) # (nsamples, nseq, noutputs)\n",
    "        return out"
   ]
  },
  {
   "cell_type": "markdown",
   "metadata": {},
   "source": [
    "## Offline Training"
   ]
  },
  {
   "cell_type": "code",
   "execution_count": 313,
   "metadata": {},
   "outputs": [],
   "source": [
    "def train(model, trainloader, valloader, criterion, optimizer, nepochs):\n",
    "    model.train()\n",
    "    \n",
    "    train_loss_list = []\n",
    "    train_acc_list = []\n",
    "    val_loss_list = []\n",
    "    val_acc_list = []\n",
    "    for epoch in range(nepochs):\n",
    "        model.train()\n",
    "        start = time.time()\n",
    "        \n",
    "        batch_loss = 0.0\n",
    "        numbatches = 0\n",
    "        batch_acc = []\n",
    "        l0 = 0\n",
    "        l1 = 0\n",
    "        l2 = 0\n",
    "        l3 = 0\n",
    "        l4 = 0\n",
    "        l5 = 0\n",
    "        for batch_num, (data, labels) in enumerate(trainloader):\n",
    "            data, labels = data.to(device), labels.to(device)\n",
    "            optimizer.zero_grad()\n",
    "            \n",
    "            out = model(data)\n",
    "            pred = torch.argmax(out, dim=1)\n",
    "\n",
    "    #         print('pred',pred)\n",
    "    #         print('label',label)\n",
    "            \n",
    "            loss = criterion(out, labels)\n",
    "            loss.backward()\n",
    "            optimizer.step()\n",
    "            \n",
    "            batch_loss += loss.item() #/ len(labels)\n",
    "            numbatches += 1\n",
    "            batch_acc.append(np.sum([pred.detach().cpu().numpy() == labels.detach().cpu().numpy()]) / len(labels))\n",
    "            \n",
    "            l0 += np.sum([labels.detach().numpy() == 0])\n",
    "            l1 += np.sum([labels.detach().numpy() == 1])\n",
    "            l2 += np.sum([labels.detach().numpy() == 2])\n",
    "            l3 += np.sum([labels.detach().numpy() == 3])\n",
    "            l4 += np.sum([labels.detach().numpy() == 4])\n",
    "            l5 += np.sum([labels.detach().numpy() == 5])\n",
    "            \n",
    "            del data\n",
    "            del labels\n",
    "            del out\n",
    "            del pred\n",
    "            del loss\n",
    "        \n",
    "        val_loss, val_acc = validate(model, valloader, criterion)\n",
    "        val_loss_list.append(val_loss)\n",
    "        val_acc_list.append(val_acc)\n",
    "        \n",
    "        train_loss_list.append(batch_loss/numbatches)\n",
    "        train_acc_list.append(np.mean(batch_acc) * 100)\n",
    "        \n",
    "        end = time.time()\n",
    "        minutes = (end-start) // 60\n",
    "        sec = (end-start) % 60\n",
    "        print(\"Epoch: %d, Run Time: %d min, %d sec\" %(epoch+1, minutes, sec))\n",
    "        print('Train Loss:' + str(train_loss_list[-1]) + '\\t Train Accuracy:' + str(round(train_acc_list[-1],2)) + '%')\n",
    "        print('Val Loss:' + str(val_loss) + '\\t Val Accuracy:' + str(round(val_acc,2)) + '%')\n",
    "        print('Label 0:' + str(l0) + ' Label 1:' + str(l1) + ' Label 2:' + str(l2) + ' Label 3:' + str(l3) + ' Label 4:' + str(l4) + ' Label 5:' + str(l5))\n",
    "        print('=========================================')\n",
    "    \n",
    "    return train_loss_list, train_acc_list, val_loss_list, val_acc_list"
   ]
  },
  {
   "cell_type": "code",
   "execution_count": 314,
   "metadata": {},
   "outputs": [],
   "source": [
    "def validate(model, valloader, criterion):\n",
    "    model.eval()\n",
    "    val_loss = []\n",
    "    val_acc = []\n",
    "    for batch_num, (data, labels) in enumerate(valloader):\n",
    "        data, labels = data.to(device), labels.to(device)\n",
    "        out = model(data)\n",
    "        pred = torch.argmax(out, dim=1)\n",
    "\n",
    "        loss = criterion(out, labels)\n",
    "        val_loss.append(loss.item())\n",
    "        val_acc.append(np.sum([pred.detach().cpu().numpy() == labels.detach().cpu().numpy()])/len(labels))\n",
    "#         print('pred', pred)\n",
    "#         print('labels', labels)\n",
    "\n",
    "        del data\n",
    "        del labels\n",
    "        del out\n",
    "        del pred\n",
    "        del loss\n",
    "    \n",
    "    return np.mean(val_loss), np.mean(val_acc) * 100"
   ]
  },
  {
   "cell_type": "code",
   "execution_count": 343,
   "metadata": {
    "scrolled": true
   },
   "outputs": [],
   "source": [
    "model = ModelCONV2D(nstates=4, noutputs=len(Xrefs), seq_len=seq_len)\n",
    "model = model.to(device)\n",
    "criterion = nn.CrossEntropyLoss()\n",
    "# optimizer = torch.optim.SGD(model.parameters(), lr=1e-3, weight_decay=5e-5, momentum=0.9)\n",
    "optimizer = torch.optim.Adam(model.parameters(), lr=1e-3, weight_decay=5e-5)"
   ]
  },
  {
   "cell_type": "code",
   "execution_count": 344,
   "metadata": {},
   "outputs": [],
   "source": [
    "nepochs = 35\n"
   ]
  },
  {
   "cell_type": "code",
   "execution_count": 345,
   "metadata": {
    "scrolled": true
   },
   "outputs": [
    {
     "name": "stdout",
     "output_type": "stream",
     "text": [
      "Epoch: 1, Run Time: 0 min, 37 sec\n",
      "Train Loss:1.1500714616598309\t Train Accuracy:48.75%\n",
      "Val Loss:0.7115206906175989\t Val Accuracy:63.92%\n",
      "Label 0:12529 Label 1:12802 Label 2:12493 Label 3:0 Label 4:0 Label 5:0\n",
      "=========================================\n",
      "Epoch: 2, Run Time: 0 min, 38 sec\n",
      "Train Loss:0.621692943915322\t Train Accuracy:73.33%\n",
      "Val Loss:0.41064528874524936\t Val Accuracy:84.89%\n",
      "Label 0:12529 Label 1:12802 Label 2:12493 Label 3:0 Label 4:0 Label 5:0\n",
      "=========================================\n",
      "Epoch: 3, Run Time: 0 min, 41 sec\n",
      "Train Loss:0.4751822489338952\t Train Accuracy:81.01%\n",
      "Val Loss:0.28002142741924196\t Val Accuracy:91.19%\n",
      "Label 0:12529 Label 1:12802 Label 2:12493 Label 3:0 Label 4:0 Label 5:0\n",
      "=========================================\n",
      "Epoch: 4, Run Time: 0 min, 38 sec\n",
      "Train Loss:0.39185929404118575\t Train Accuracy:84.61%\n",
      "Val Loss:0.33425975197882163\t Val Accuracy:85.51%\n",
      "Label 0:12529 Label 1:12802 Label 2:12493 Label 3:0 Label 4:0 Label 5:0\n",
      "=========================================\n",
      "Epoch: 5, Run Time: 0 min, 37 sec\n",
      "Train Loss:0.3195632062348965\t Train Accuracy:87.67%\n",
      "Val Loss:0.18864717451840873\t Val Accuracy:93.42%\n",
      "Label 0:12529 Label 1:12802 Label 2:12493 Label 3:0 Label 4:0 Label 5:0\n",
      "=========================================\n",
      "Epoch: 6, Run Time: 0 min, 36 sec\n",
      "Train Loss:0.26218192722346334\t Train Accuracy:89.9%\n",
      "Val Loss:0.15091316366758872\t Val Accuracy:94.77%\n",
      "Label 0:12529 Label 1:12802 Label 2:12493 Label 3:0 Label 4:0 Label 5:0\n",
      "=========================================\n",
      "Epoch: 7, Run Time: 0 min, 37 sec\n",
      "Train Loss:0.24975236668880726\t Train Accuracy:90.61%\n",
      "Val Loss:0.10733566623855764\t Val Accuracy:96.81%\n",
      "Label 0:12529 Label 1:12802 Label 2:12493 Label 3:0 Label 4:0 Label 5:0\n",
      "=========================================\n",
      "Epoch: 8, Run Time: 0 min, 39 sec\n",
      "Train Loss:0.23136313335114234\t Train Accuracy:91.32%\n",
      "Val Loss:0.09887293779005216\t Val Accuracy:96.62%\n",
      "Label 0:12529 Label 1:12802 Label 2:12493 Label 3:0 Label 4:0 Label 5:0\n",
      "=========================================\n",
      "Epoch: 9, Run Time: 0 min, 36 sec\n",
      "Train Loss:0.20398450381047017\t Train Accuracy:92.2%\n",
      "Val Loss:0.24370720032162554\t Val Accuracy:90.45%\n",
      "Label 0:12529 Label 1:12802 Label 2:12493 Label 3:0 Label 4:0 Label 5:0\n",
      "=========================================\n",
      "Epoch: 10, Run Time: 0 min, 36 sec\n",
      "Train Loss:0.18445567495969906\t Train Accuracy:93.11%\n",
      "Val Loss:0.0982387911264352\t Val Accuracy:95.92%\n",
      "Label 0:12529 Label 1:12802 Label 2:12493 Label 3:0 Label 4:0 Label 5:0\n",
      "=========================================\n",
      "Epoch: 11, Run Time: 0 min, 36 sec\n",
      "Train Loss:0.19155836530734557\t Train Accuracy:92.79%\n",
      "Val Loss:0.13593877617299088\t Val Accuracy:94.21%\n",
      "Label 0:12529 Label 1:12802 Label 2:12493 Label 3:0 Label 4:0 Label 5:0\n",
      "=========================================\n",
      "Epoch: 12, Run Time: 0 min, 36 sec\n",
      "Train Loss:0.1631309363135212\t Train Accuracy:94.01%\n",
      "Val Loss:0.0997797514744631\t Val Accuracy:96.41%\n",
      "Label 0:12529 Label 1:12802 Label 2:12493 Label 3:0 Label 4:0 Label 5:0\n",
      "=========================================\n",
      "Epoch: 13, Run Time: 0 min, 36 sec\n",
      "Train Loss:0.1681307852897491\t Train Accuracy:93.66%\n",
      "Val Loss:0.06968366186039185\t Val Accuracy:97.85%\n",
      "Label 0:12529 Label 1:12802 Label 2:12493 Label 3:0 Label 4:0 Label 5:0\n",
      "=========================================\n",
      "Epoch: 14, Run Time: 0 min, 35 sec\n",
      "Train Loss:0.15701814183361223\t Train Accuracy:94.22%\n",
      "Val Loss:0.11845960547252903\t Val Accuracy:95.08%\n",
      "Label 0:12529 Label 1:12802 Label 2:12493 Label 3:0 Label 4:0 Label 5:0\n",
      "=========================================\n",
      "Epoch: 15, Run Time: 0 min, 35 sec\n",
      "Train Loss:0.13940827961306315\t Train Accuracy:94.83%\n",
      "Val Loss:0.04950508874599037\t Val Accuracy:98.41%\n",
      "Label 0:12529 Label 1:12802 Label 2:12493 Label 3:0 Label 4:0 Label 5:0\n",
      "=========================================\n",
      "Epoch: 16, Run Time: 0 min, 37 sec\n",
      "Train Loss:0.14283421784765213\t Train Accuracy:94.8%\n",
      "Val Loss:0.10809274971133143\t Val Accuracy:96.15%\n",
      "Label 0:12529 Label 1:12802 Label 2:12493 Label 3:0 Label 4:0 Label 5:0\n",
      "=========================================\n",
      "Epoch: 17, Run Time: 0 min, 36 sec\n",
      "Train Loss:0.13055942188696684\t Train Accuracy:95.2%\n",
      "Val Loss:0.05586371120564112\t Val Accuracy:98.38%\n",
      "Label 0:12529 Label 1:12802 Label 2:12493 Label 3:0 Label 4:0 Label 5:0\n",
      "=========================================\n",
      "Epoch: 18, Run Time: 0 min, 36 sec\n",
      "Train Loss:0.12278467662179389\t Train Accuracy:95.5%\n",
      "Val Loss:0.10415634108105983\t Val Accuracy:95.88%\n",
      "Label 0:12529 Label 1:12802 Label 2:12493 Label 3:0 Label 4:0 Label 5:0\n",
      "=========================================\n",
      "Epoch: 19, Run Time: 0 min, 36 sec\n",
      "Train Loss:0.13861425979239111\t Train Accuracy:94.96%\n",
      "Val Loss:0.15336495183232263\t Val Accuracy:94.35%\n",
      "Label 0:12529 Label 1:12802 Label 2:12493 Label 3:0 Label 4:0 Label 5:0\n",
      "=========================================\n",
      "Epoch: 20, Run Time: 0 min, 36 sec\n",
      "Train Loss:0.12501496922325445\t Train Accuracy:95.49%\n",
      "Val Loss:0.039027951148111285\t Val Accuracy:98.75%\n",
      "Label 0:12529 Label 1:12802 Label 2:12493 Label 3:0 Label 4:0 Label 5:0\n",
      "=========================================\n",
      "Epoch: 21, Run Time: 0 min, 36 sec\n",
      "Train Loss:0.11822664361396754\t Train Accuracy:95.65%\n",
      "Val Loss:0.0763079854183075\t Val Accuracy:97.51%\n",
      "Label 0:12529 Label 1:12802 Label 2:12493 Label 3:0 Label 4:0 Label 5:0\n",
      "=========================================\n",
      "Epoch: 22, Run Time: 0 min, 36 sec\n",
      "Train Loss:0.11081088759709855\t Train Accuracy:95.94%\n",
      "Val Loss:0.0397076106696265\t Val Accuracy:98.79%\n",
      "Label 0:12529 Label 1:12802 Label 2:12493 Label 3:0 Label 4:0 Label 5:0\n",
      "=========================================\n",
      "Epoch: 23, Run Time: 0 min, 36 sec\n",
      "Train Loss:0.11298302710182159\t Train Accuracy:95.84%\n",
      "Val Loss:0.04393877625817389\t Val Accuracy:98.98%\n",
      "Label 0:12529 Label 1:12802 Label 2:12493 Label 3:0 Label 4:0 Label 5:0\n",
      "=========================================\n",
      "Epoch: 24, Run Time: 0 min, 36 sec\n",
      "Train Loss:0.09326810604338912\t Train Accuracy:96.54%\n",
      "Val Loss:0.028594153790228713\t Val Accuracy:99.34%\n",
      "Label 0:12529 Label 1:12802 Label 2:12493 Label 3:0 Label 4:0 Label 5:0\n",
      "=========================================\n",
      "Epoch: 25, Run Time: 0 min, 37 sec\n",
      "Train Loss:0.10181535730717352\t Train Accuracy:96.26%\n",
      "Val Loss:0.058614293494679795\t Val Accuracy:98.2%\n",
      "Label 0:12529 Label 1:12802 Label 2:12493 Label 3:0 Label 4:0 Label 5:0\n",
      "=========================================\n",
      "Epoch: 26, Run Time: 0 min, 36 sec\n",
      "Train Loss:0.10398415739119456\t Train Accuracy:96.18%\n",
      "Val Loss:0.03361156990194297\t Val Accuracy:98.99%\n",
      "Label 0:12529 Label 1:12802 Label 2:12493 Label 3:0 Label 4:0 Label 5:0\n",
      "=========================================\n",
      "Epoch: 27, Run Time: 0 min, 36 sec\n",
      "Train Loss:0.09264552086667233\t Train Accuracy:96.52%\n",
      "Val Loss:0.09849050655726373\t Val Accuracy:96.56%\n",
      "Label 0:12529 Label 1:12802 Label 2:12493 Label 3:0 Label 4:0 Label 5:0\n",
      "=========================================\n",
      "Epoch: 28, Run Time: 0 min, 35 sec\n",
      "Train Loss:0.08291740309308611\t Train Accuracy:96.98%\n",
      "Val Loss:0.033998025438242305\t Val Accuracy:98.77%\n",
      "Label 0:12529 Label 1:12802 Label 2:12493 Label 3:0 Label 4:0 Label 5:0\n",
      "=========================================\n",
      "Epoch: 29, Run Time: 0 min, 36 sec\n",
      "Train Loss:0.09208120269121954\t Train Accuracy:96.61%\n",
      "Val Loss:0.03250665338636618\t Val Accuracy:98.76%\n",
      "Label 0:12529 Label 1:12802 Label 2:12493 Label 3:0 Label 4:0 Label 5:0\n",
      "=========================================\n",
      "Epoch: 30, Run Time: 0 min, 37 sec\n",
      "Train Loss:0.09349693863564548\t Train Accuracy:96.56%\n",
      "Val Loss:0.038136049745765725\t Val Accuracy:98.5%\n",
      "Label 0:12529 Label 1:12802 Label 2:12493 Label 3:0 Label 4:0 Label 5:0\n",
      "=========================================\n",
      "Epoch: 31, Run Time: 0 min, 37 sec\n",
      "Train Loss:0.07801615265260979\t Train Accuracy:97.18%\n",
      "Val Loss:0.05800686552607286\t Val Accuracy:97.82%\n",
      "Label 0:12529 Label 1:12802 Label 2:12493 Label 3:0 Label 4:0 Label 5:0\n",
      "=========================================\n",
      "Epoch: 32, Run Time: 0 min, 36 sec\n",
      "Train Loss:0.08196546159986709\t Train Accuracy:96.95%\n",
      "Val Loss:0.05211695236718561\t Val Accuracy:98.1%\n",
      "Label 0:12529 Label 1:12802 Label 2:12493 Label 3:0 Label 4:0 Label 5:0\n",
      "=========================================\n",
      "Epoch: 33, Run Time: 0 min, 36 sec\n",
      "Train Loss:0.07961458127750587\t Train Accuracy:97.18%\n",
      "Val Loss:0.024383913118788226\t Val Accuracy:99.26%\n",
      "Label 0:12529 Label 1:12802 Label 2:12493 Label 3:0 Label 4:0 Label 5:0\n",
      "=========================================\n"
     ]
    },
    {
     "name": "stdout",
     "output_type": "stream",
     "text": [
      "Epoch: 34, Run Time: 0 min, 36 sec\n",
      "Train Loss:0.08439311091599332\t Train Accuracy:96.89%\n",
      "Val Loss:0.05212613206914091\t Val Accuracy:98.1%\n",
      "Label 0:12529 Label 1:12802 Label 2:12493 Label 3:0 Label 4:0 Label 5:0\n",
      "=========================================\n",
      "Epoch: 35, Run Time: 0 min, 36 sec\n",
      "Train Loss:0.07165717524224641\t Train Accuracy:97.38%\n",
      "Val Loss:0.09872615032308683\t Val Accuracy:95.34%\n",
      "Label 0:12529 Label 1:12802 Label 2:12493 Label 3:0 Label 4:0 Label 5:0\n",
      "=========================================\n"
     ]
    }
   ],
   "source": [
    "train_loss, train_acc, val_loss, val_acc = train(model, trainloader, valloader, criterion, optimizer, nepochs)"
   ]
  },
  {
   "cell_type": "markdown",
   "metadata": {},
   "source": [
    "model_1: 6 outputs (0,2,4,6,8,10), 300 seq_len, 3 Conv2d (1,4,8,16), 30 epochs, 92.9% train acc, 94.16% val acc <br>\n",
    "model_2: 6 outputs (0,2,4,6,8,10), 300 seq_len, 2 Conv2d (1,8,16), 30 epochs, 92.62 train acc, 97.56 val acc <br>\n",
    "model_3: 4 outputs (0,4,8,10), 300 seq_len, 2 Conv2d (1,8,16), 40 epochs, 94.43% train acc, 97.65% val acc <br>\n",
    "model_4: 6 outputs (0,2,4,6,8,10), 300 seq_len, 2 Conv2d (1,8,16), 50 epochs, 94.82% train acc, 88.96% val acc <br>\n",
    "model_6: 3 outputs (0,4,8), 300 seq_len, 2 Conv2d (1,8,16), 10 epochs, 99.98% train acc, 100% val acc <br>\n",
    "model_7: 6 outputs (0,2,4,6,8,10), 300 seq_len, 2 Conv2d (1,8,16), 10 epochs, 95.94% train acc, 97.2% val acc <br>\n",
    "model_8: 6 outputs (0,2,4,6,8,20), 300 seq_len, 2 Conv2d (1,8,16) kernel(2,30), 10 epochs, 99.9% train, 100% val <br>\n",
    "model_9: switching_K, 3 outputs(0,4,8), 300 seq_len, 2 Conv2d(1,8,16), kernel(2,20), 35 epochs, 97.64% train, 98.95% val <br> "
   ]
  },
  {
   "cell_type": "code",
   "execution_count": 328,
   "metadata": {},
   "outputs": [],
   "source": [
    "torch.save(model.state_dict(), './model_9.pt', _use_new_zipfile_serialization=False)"
   ]
  },
  {
   "cell_type": "code",
   "execution_count": 346,
   "metadata": {
    "scrolled": false
   },
   "outputs": [
    {
     "data": {
      "image/png": "[encoded data removed]",
      "text/plain": [
       "<Figure size 432x288 with 1 Axes>"
      ]
     },
     "metadata": {
      "needs_background": "light"
     },
     "output_type": "display_data"
    },
    {
     "data": {
      "image/png": "[encoded data removed]",
      "text/plain": [
       "<Figure size 432x288 with 1 Axes>"
      ]
     },
     "metadata": {
      "needs_background": "light"
     },
     "output_type": "display_data"
    }
   ],
   "source": [
    "x = np.arange(nepochs)\n",
    "plt.plot(x,train_loss, label='Training Loss')\n",
    "plt.plot(x,val_loss, label = 'Validation Loss')\n",
    "plt.title('Loss')\n",
    "plt.xlabel('Epoch')\n",
    "plt.legend()\n",
    "plt.show()\n",
    "plt.plot(x,train_acc, label='Training Accuracy')\n",
    "plt.plot(x,val_acc, label='Validation Accuracy')\n",
    "plt.title('Accuracy')\n",
    "plt.xlabel('Epoch')\n",
    "plt.legend()\n",
    "plt.show()"
   ]
  },
  {
   "cell_type": "code",
   "execution_count": 329,
   "metadata": {},
   "outputs": [],
   "source": [
    "def sim_val(model, val_seq, val_labels):\n",
    "    pred = []\n",
    "    data = torch.from_numpy(val_seq).type('torch.FloatTensor')\n",
    "    out = model(data)\n",
    "    pred = torch.argmax(out, dim=1).detach().numpy()\n",
    "    return pred "
   ]
  },
  {
   "cell_type": "code",
   "execution_count": 356,
   "metadata": {},
   "outputs": [],
   "source": [
    "# noise = np.random.normal(0,0.001,val_seq.shape)\n",
    "# val_noise = val_seq + noise\n",
    "model_test = ModelCONV2D(nstates=4, noutputs=3, seq_len=seq_len)\n",
    "model_test.load_state_dict(torch.load('model_9.pt'))\n",
    "pred = sim_val(model, val_seq, val_labels)\n",
    "accuracy = sum(pred == np.array(val_labels))/len(val_labels)\n",
    "# for i in range(len(pred)/5):\n",
    "#     pred[]"
   ]
  },
  {
   "cell_type": "code",
   "execution_count": 357,
   "metadata": {},
   "outputs": [
    {
     "name": "stdout",
     "output_type": "stream",
     "text": [
      "1.0\n"
     ]
    }
   ],
   "source": [
    "print(accuracy)"
   ]
  },
  {
   "cell_type": "code",
   "execution_count": 358,
   "metadata": {},
   "outputs": [
    {
     "name": "stdout",
     "output_type": "stream",
     "text": [
      "(3000, 4, 500)\n"
     ]
    }
   ],
   "source": [
    "print(val_noise.shape)"
   ]
  },
  {
   "cell_type": "code",
   "execution_count": 359,
   "metadata": {},
   "outputs": [
    {
     "data": {
      "image/png": "[encoded data removed]",
      "text/plain": [
       "<Figure size 720x720 with 1 Axes>"
      ]
     },
     "metadata": {
      "needs_background": "light"
     },
     "output_type": "display_data"
    }
   ],
   "source": [
    "T = np.arange(len(labels))\n",
    "plt.figure(figsize=(10,10))\n",
    "# plt.plot(T,val_seq[:,0,0],label='x')\n",
    "# plt.plot(T,val_seq[:,1,0],label='xdot')\n",
    "plt.plot(T,data_seq[:,2,0],linewidth=5,label='theta')\n",
    "# plt.plot(T,val_seq[:,3,0],label='thetadot')\n",
    "plt.legend()\n",
    "plt.title('State Theta Over Step Mass Additions (every 700 timsteps)')\n",
    "plt.show()"
   ]
  },
  {
   "cell_type": "code",
   "execution_count": 361,
   "metadata": {},
   "outputs": [
    {
     "data": {
      "image/png": "[encoded data removed]",
      "text/plain": [
       "<Figure size 720x720 with 1 Axes>"
      ]
     },
     "metadata": {
      "needs_background": "light"
     },
     "output_type": "display_data"
    }
   ],
   "source": [
    "plt.figure(figsize=(10,10))\n",
    "plt.plot(np.arange(len(val_labels)), [v*4 for v in val_labels], 'r', label='Label')\n",
    "plt.scatter(np.arange(len(val_labels)), np.array([p*4 for p in pred]), s=15, label='Prediction')\n",
    "plt.legend()\n",
    "plt.title('Step Mass Addition and Controller Change')\n",
    "plt.show()"
   ]
  },
  {
   "cell_type": "code",
   "execution_count": 220,
   "metadata": {},
   "outputs": [],
   "source": [
    "def get_pred(model, data, labels):\n",
    "    model.eval()\n",
    "    data = torch.from_numpy(data).type('torch.FloatTensor')\n",
    "    \n",
    "    out = model(data)\n",
    "    pred = torch.argmax(out, dim=1)\n",
    "    \n",
    "    accuracy = np.sum([pred.detach().numpy() == np.array(labels)])/len(labels) * 100\n",
    "    \n",
    "    print(str(accuracy) + '% accuracy over ' + str(len(labels)) + ' samples.')\n",
    "    \n",
    "    return accuracy"
   ]
  },
  {
   "cell_type": "code",
   "execution_count": 221,
   "metadata": {},
   "outputs": [
    {
     "name": "stdout",
     "output_type": "stream",
     "text": [
      "100.0% accuracy over 52621 samples.\n",
      "Run Time: 0 min 38 sec. 0.733124 millisec per sample.\n"
     ]
    }
   ],
   "source": [
    "starttime = time.time()\n",
    "\n",
    "acc = get_pred(model_test, data_seq, labels)\n",
    "endtime = time.time()\n",
    "minutes = (endtime-starttime) // 60\n",
    "sec = (endtime-starttime) % 60\n",
    "sampletime = float((endtime-starttime) * 1000) / len(labels)\n",
    "print(\"Run Time: %d min %d sec. %f millisec per sample.\" %(minutes, sec, sampletime))"
   ]
  },
  {
   "cell_type": "code",
   "execution_count": null,
   "metadata": {},
   "outputs": [],
   "source": []
  }
 ],
 "metadata": {
  "kernelspec": {
   "display_name": "Python 3",
   "language": "python",
   "name": "python3"
  },
  "language_info": {
   "codemirror_mode": {
    "name": "ipython",
    "version": 3
   },
   "file_extension": ".py",
   "mimetype": "text/x-python",
   "name": "python",
   "nbconvert_exporter": "python",
   "pygments_lexer": "ipython3",
   "version": "3.8.5"
  }
 },
 "nbformat": 4,
 "nbformat_minor": 4
}
